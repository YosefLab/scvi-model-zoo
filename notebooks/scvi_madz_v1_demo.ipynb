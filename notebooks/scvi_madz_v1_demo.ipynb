{
 "cells": [
  {
   "cell_type": "code",
   "execution_count": 12,
   "id": "8c4ac6e3",
   "metadata": {},
   "outputs": [],
   "source": [
    "import scvimadz\n",
    "import scvi\n",
    "import anndata\n",
    "import pandas as pd\n",
    "import numpy as np"
   ]
  },
  {
   "cell_type": "code",
   "execution_count": 11,
   "id": "af4eef55",
   "metadata": {},
   "outputs": [
    {
     "name": "stdout",
     "output_type": "stream",
     "text": [
      "The autoreload extension is already loaded. To reload it, use:\n",
      "  %reload_ext autoreload\n"
     ]
    }
   ],
   "source": [
    "%load_ext autoreload\n",
    "%autoreload 2"
   ]
  },
  {
   "cell_type": "code",
   "execution_count": 5,
   "id": "5de28321",
   "metadata": {},
   "outputs": [],
   "source": [
    "demo_dir = \"/Users/valehvpa/Desktop/scvi-madz-demo\"\n",
    "data_dir = f\"{demo_dir}/demo_data_dir\"\n",
    "ts_ref = scvimadz.reference.TabulaSapiensReference(data_dir)"
   ]
  },
  {
   "cell_type": "markdown",
   "id": "78c07248",
   "metadata": {},
   "source": [
    "## Datasets"
   ]
  },
  {
   "cell_type": "code",
   "execution_count": 6,
   "id": "e560e4d4",
   "metadata": {},
   "outputs": [
    {
     "data": {
      "application/vnd.jupyter.widget-view+json": {
       "model_id": "0a66247bc86f4a359392ad23ff600f31",
       "version_major": 2,
       "version_minor": 0
      },
      "text/plain": [
       "Output()"
      ]
     },
     "metadata": {},
     "output_type": "display_data"
    },
    {
     "data": {
      "text/html": [
       "<pre style=\"white-space:pre;overflow-x:auto;line-height:normal;font-family:Menlo,'DejaVu Sans Mono',consolas,'Courier New',monospace\"></pre>\n"
      ],
      "text/plain": [
       "<rich.jupyter.JupyterRenderable at 0x1777300a0>"
      ]
     },
     "metadata": {},
     "output_type": "display_data"
    },
    {
     "data": {
      "text/html": [
       "<pre style=\"white-space:pre;overflow-x:auto;line-height:normal;font-family:Menlo,'DejaVu Sans Mono',consolas,'Courier New',monospace\"></pre>\n"
      ],
      "text/plain": [
       "<rich.jupyter.JupyterRenderable at 0x177730370>"
      ]
     },
     "metadata": {},
     "output_type": "display_data"
    },
    {
     "data": {
      "text/html": [
       "<pre style=\"white-space:pre;overflow-x:auto;line-height:normal;font-family:Menlo,'DejaVu Sans Mono',consolas,'Courier New',monospace\"></pre>\n"
      ],
      "text/plain": [
       "<rich.jupyter.JupyterRenderable at 0x177730250>"
      ]
     },
     "metadata": {},
     "output_type": "display_data"
    },
    {
     "data": {
      "text/html": [
       "<pre style=\"white-space:pre;overflow-x:auto;line-height:normal;font-family:Menlo,'DejaVu Sans Mono',consolas,'Courier New',monospace\"></pre>\n"
      ],
      "text/plain": [
       "<rich.jupyter.JupyterRenderable at 0x1777302e0>"
      ]
     },
     "metadata": {},
     "output_type": "display_data"
    },
    {
     "data": {
      "text/html": [
       "<pre style=\"white-space:pre;overflow-x:auto;line-height:normal;font-family:Menlo,'DejaVu Sans Mono',consolas,'Courier New',monospace\"></pre>\n"
      ],
      "text/plain": [
       "<rich.jupyter.JupyterRenderable at 0x1777303d0>"
      ]
     },
     "metadata": {},
     "output_type": "display_data"
    },
    {
     "data": {
      "text/html": [
       "<pre style=\"white-space:pre;overflow-x:auto;line-height:normal;font-family:Menlo,'DejaVu Sans Mono',consolas,'Courier New',monospace\"></pre>\n"
      ],
      "text/plain": [
       "<rich.jupyter.JupyterRenderable at 0x177730460>"
      ]
     },
     "metadata": {},
     "output_type": "display_data"
    },
    {
     "data": {
      "text/html": [
       "<pre style=\"white-space:pre;overflow-x:auto;line-height:normal;font-family:Menlo,'DejaVu Sans Mono',consolas,'Courier New',monospace\"></pre>\n"
      ],
      "text/plain": [
       "<rich.jupyter.JupyterRenderable at 0x1775a9d30>"
      ]
     },
     "metadata": {},
     "output_type": "display_data"
    },
    {
     "data": {
      "text/html": [
       "<pre style=\"white-space:pre;overflow-x:auto;line-height:normal;font-family:Menlo,'DejaVu Sans Mono',consolas,'Courier New',monospace\"></pre>\n"
      ],
      "text/plain": [
       "<rich.jupyter.JupyterRenderable at 0x1775a9d30>"
      ]
     },
     "metadata": {},
     "output_type": "display_data"
    },
    {
     "data": {
      "text/html": [
       "<pre style=\"white-space:pre;overflow-x:auto;line-height:normal;font-family:Menlo,'DejaVu Sans Mono',consolas,'Courier New',monospace\"></pre>\n"
      ],
      "text/plain": [
       "<rich.jupyter.JupyterRenderable at 0x1775a9d30>"
      ]
     },
     "metadata": {},
     "output_type": "display_data"
    },
    {
     "data": {
      "text/html": [
       "<pre style=\"white-space:pre;overflow-x:auto;line-height:normal;font-family:Menlo,'DejaVu Sans Mono',consolas,'Courier New',monospace\"></pre>\n"
      ],
      "text/plain": [
       "<rich.jupyter.JupyterRenderable at 0x1775a9d30>"
      ]
     },
     "metadata": {},
     "output_type": "display_data"
    },
    {
     "data": {
      "text/html": [
       "<pre style=\"white-space:pre;overflow-x:auto;line-height:normal;font-family:Menlo,'DejaVu Sans Mono',consolas,'Courier New',monospace\"></pre>\n"
      ],
      "text/plain": [
       "<rich.jupyter.JupyterRenderable at 0x1775a9d30>"
      ]
     },
     "metadata": {},
     "output_type": "display_data"
    },
    {
     "data": {
      "text/html": [
       "<pre style=\"white-space:pre;overflow-x:auto;line-height:normal;font-family:Menlo,'DejaVu Sans Mono',consolas,'Courier New',monospace\"></pre>\n"
      ],
      "text/plain": [
       "<rich.jupyter.JupyterRenderable at 0x1775a9d30>"
      ]
     },
     "metadata": {},
     "output_type": "display_data"
    },
    {
     "data": {
      "text/html": [
       "<pre style=\"white-space:pre;overflow-x:auto;line-height:normal;font-family:Menlo,'DejaVu Sans Mono',consolas,'Courier New',monospace\"></pre>\n"
      ],
      "text/plain": [
       "<rich.jupyter.JupyterRenderable at 0x1775a9d30>"
      ]
     },
     "metadata": {},
     "output_type": "display_data"
    },
    {
     "data": {
      "text/html": [
       "<pre style=\"white-space:pre;overflow-x:auto;line-height:normal;font-family:Menlo,'DejaVu Sans Mono',consolas,'Courier New',monospace\"></pre>\n"
      ],
      "text/plain": [
       "<rich.jupyter.JupyterRenderable at 0x1775a9d30>"
      ]
     },
     "metadata": {},
     "output_type": "display_data"
    },
    {
     "data": {
      "text/html": [
       "<pre style=\"white-space:pre;overflow-x:auto;line-height:normal;font-family:Menlo,'DejaVu Sans Mono',consolas,'Courier New',monospace\"></pre>\n"
      ],
      "text/plain": [
       "<rich.jupyter.JupyterRenderable at 0x1775a9d30>"
      ]
     },
     "metadata": {},
     "output_type": "display_data"
    },
    {
     "data": {
      "text/html": [
       "<pre style=\"white-space:pre;overflow-x:auto;line-height:normal;font-family:Menlo,'DejaVu Sans Mono',consolas,'Courier New',monospace\"></pre>\n"
      ],
      "text/plain": [
       "<rich.jupyter.JupyterRenderable at 0x1775a9d30>"
      ]
     },
     "metadata": {},
     "output_type": "display_data"
    },
    {
     "data": {
      "text/html": [
       "<pre style=\"white-space:pre;overflow-x:auto;line-height:normal;font-family:Menlo,'DejaVu Sans Mono',consolas,'Courier New',monospace\"></pre>\n"
      ],
      "text/plain": [
       "<rich.jupyter.JupyterRenderable at 0x1775a9d30>"
      ]
     },
     "metadata": {},
     "output_type": "display_data"
    },
    {
     "data": {
      "text/html": [
       "<pre style=\"white-space:pre;overflow-x:auto;line-height:normal;font-family:Menlo,'DejaVu Sans Mono',consolas,'Courier New',monospace\"></pre>\n"
      ],
      "text/plain": [
       "<rich.jupyter.JupyterRenderable at 0x1775a9d30>"
      ]
     },
     "metadata": {},
     "output_type": "display_data"
    },
    {
     "data": {
      "text/html": [
       "<pre style=\"white-space:pre;overflow-x:auto;line-height:normal;font-family:Menlo,'DejaVu Sans Mono',consolas,'Courier New',monospace\"></pre>\n"
      ],
      "text/plain": [
       "<rich.jupyter.JupyterRenderable at 0x1775a9d30>"
      ]
     },
     "metadata": {},
     "output_type": "display_data"
    },
    {
     "data": {
      "text/html": [
       "<pre style=\"white-space:pre;overflow-x:auto;line-height:normal;font-family:Menlo,'DejaVu Sans Mono',consolas,'Courier New',monospace\"></pre>\n"
      ],
      "text/plain": [
       "<rich.jupyter.JupyterRenderable at 0x1775a9d30>"
      ]
     },
     "metadata": {},
     "output_type": "display_data"
    },
    {
     "data": {
      "text/html": [
       "<pre style=\"white-space:pre;overflow-x:auto;line-height:normal;font-family:Menlo,'DejaVu Sans Mono',consolas,'Courier New',monospace\"></pre>\n"
      ],
      "text/plain": [
       "<rich.jupyter.JupyterRenderable at 0x1775a9d30>"
      ]
     },
     "metadata": {},
     "output_type": "display_data"
    },
    {
     "data": {
      "text/html": [
       "<pre style=\"white-space:pre;overflow-x:auto;line-height:normal;font-family:Menlo,'DejaVu Sans Mono',consolas,'Courier New',monospace\"></pre>\n"
      ],
      "text/plain": [
       "<rich.jupyter.JupyterRenderable at 0x1775a9d30>"
      ]
     },
     "metadata": {},
     "output_type": "display_data"
    },
    {
     "data": {
      "text/html": [
       "<pre style=\"white-space:pre;overflow-x:auto;line-height:normal;font-family:Menlo,'DejaVu Sans Mono',consolas,'Courier New',monospace\"></pre>\n"
      ],
      "text/plain": [
       "<rich.jupyter.JupyterRenderable at 0x1775a9d30>"
      ]
     },
     "metadata": {},
     "output_type": "display_data"
    },
    {
     "data": {
      "text/html": [
       "<pre style=\"white-space:pre;overflow-x:auto;line-height:normal;font-family:Menlo,'DejaVu Sans Mono',consolas,'Courier New',monospace\"></pre>\n"
      ],
      "text/plain": [
       "<rich.jupyter.JupyterRenderable at 0x1775a9d30>"
      ]
     },
     "metadata": {},
     "output_type": "display_data"
    },
    {
     "data": {
      "text/html": [
       "<pre style=\"white-space:pre;overflow-x:auto;line-height:normal;font-family:Menlo,'DejaVu Sans Mono',consolas,'Courier New',monospace\"></pre>\n"
      ],
      "text/plain": [
       "<rich.jupyter.JupyterRenderable at 0x1775a9d30>"
      ]
     },
     "metadata": {},
     "output_type": "display_data"
    },
    {
     "data": {
      "text/html": [
       "<pre style=\"white-space:pre;overflow-x:auto;line-height:normal;font-family:Menlo,'DejaVu Sans Mono',consolas,'Courier New',monospace\"></pre>\n"
      ],
      "text/plain": [
       "<rich.jupyter.JupyterRenderable at 0x1775a9d00>"
      ]
     },
     "metadata": {},
     "output_type": "display_data"
    },
    {
     "data": {
      "text/html": [
       "<pre style=\"white-space:pre;overflow-x:auto;line-height:normal;font-family:Menlo,'DejaVu Sans Mono',consolas,'Courier New',monospace\"></pre>\n"
      ],
      "text/plain": [
       "<rich.jupyter.JupyterRenderable at 0x1775a9d00>"
      ]
     },
     "metadata": {},
     "output_type": "display_data"
    },
    {
     "data": {
      "text/html": [
       "<pre style=\"white-space:pre;overflow-x:auto;line-height:normal;font-family:Menlo,'DejaVu Sans Mono',consolas,'Courier New',monospace\"></pre>\n"
      ],
      "text/plain": [
       "<rich.jupyter.JupyterRenderable at 0x1775a9d00>"
      ]
     },
     "metadata": {},
     "output_type": "display_data"
    }
   ],
   "source": [
    "df = ts_ref.get_datasets_df(pretty_print=True)"
   ]
  },
  {
   "cell_type": "code",
   "execution_count": 7,
   "id": "b45dad0b",
   "metadata": {},
   "outputs": [
    {
     "data": {
      "text/html": [
       "<div>\n",
       "<style scoped>\n",
       "    .dataframe tbody tr th:only-of-type {\n",
       "        vertical-align: middle;\n",
       "    }\n",
       "\n",
       "    .dataframe tbody tr th {\n",
       "        vertical-align: top;\n",
       "    }\n",
       "\n",
       "    .dataframe thead th {\n",
       "        text-align: right;\n",
       "    }\n",
       "</style>\n",
       "<table border=\"1\" class=\"dataframe\">\n",
       "  <thead>\n",
       "    <tr style=\"text-align: right;\">\n",
       "      <th></th>\n",
       "      <th>cell_count</th>\n",
       "      <th>gene_count</th>\n",
       "      <th>tissue</th>\n",
       "      <th>has_cite</th>\n",
       "      <th>has_latent_embedding</th>\n",
       "      <th>is_annotated</th>\n",
       "    </tr>\n",
       "    <tr>\n",
       "      <th>key</th>\n",
       "      <th></th>\n",
       "      <th></th>\n",
       "      <th></th>\n",
       "      <th></th>\n",
       "      <th></th>\n",
       "      <th></th>\n",
       "    </tr>\n",
       "  </thead>\n",
       "  <tbody>\n",
       "    <tr>\n",
       "      <th>0e6263fb-01f5-4b9a-8f30-35f6cda125de.h5ad</th>\n",
       "      <td>35682</td>\n",
       "      <td>2000</td>\n",
       "      <td>Lung</td>\n",
       "      <td>False</td>\n",
       "      <td>True</td>\n",
       "      <td>True</td>\n",
       "    </tr>\n",
       "    <tr>\n",
       "      <th>9375735f-c715-4d15-9b18-de622e412ddc.h5ad</th>\n",
       "      <td>35682</td>\n",
       "      <td>58870</td>\n",
       "      <td>Lung</td>\n",
       "      <td>False</td>\n",
       "      <td>True</td>\n",
       "      <td>True</td>\n",
       "    </tr>\n",
       "    <tr>\n",
       "      <th>9fa65f45-d96e-4bac-b6e2-78027df51d22.h5ad</th>\n",
       "      <td>12297</td>\n",
       "      <td>58870</td>\n",
       "      <td>Bone Marrow</td>\n",
       "      <td>False</td>\n",
       "      <td>True</td>\n",
       "      <td>True</td>\n",
       "    </tr>\n",
       "    <tr>\n",
       "      <th>cf3a08f8-f3e2-4bbb-a7da-33d8945424d8.h5ad</th>\n",
       "      <td>5007</td>\n",
       "      <td>58870</td>\n",
       "      <td>Liver</td>\n",
       "      <td>False</td>\n",
       "      <td>True</td>\n",
       "      <td>True</td>\n",
       "    </tr>\n",
       "    <tr>\n",
       "      <th>fbcf7e24-d269-42e8-90d6-b9aeb51db36b.h5ad</th>\n",
       "      <td>5007</td>\n",
       "      <td>2000</td>\n",
       "      <td>Liver</td>\n",
       "      <td>False</td>\n",
       "      <td>True</td>\n",
       "      <td>True</td>\n",
       "    </tr>\n",
       "  </tbody>\n",
       "</table>\n",
       "</div>"
      ],
      "text/plain": [
       "                                           cell_count  gene_count  \\\n",
       "key                                                                 \n",
       "0e6263fb-01f5-4b9a-8f30-35f6cda125de.h5ad       35682        2000   \n",
       "9375735f-c715-4d15-9b18-de622e412ddc.h5ad       35682       58870   \n",
       "9fa65f45-d96e-4bac-b6e2-78027df51d22.h5ad       12297       58870   \n",
       "cf3a08f8-f3e2-4bbb-a7da-33d8945424d8.h5ad        5007       58870   \n",
       "fbcf7e24-d269-42e8-90d6-b9aeb51db36b.h5ad        5007        2000   \n",
       "\n",
       "                                                tissue  has_cite  \\\n",
       "key                                                                \n",
       "0e6263fb-01f5-4b9a-8f30-35f6cda125de.h5ad         Lung     False   \n",
       "9375735f-c715-4d15-9b18-de622e412ddc.h5ad         Lung     False   \n",
       "9fa65f45-d96e-4bac-b6e2-78027df51d22.h5ad  Bone Marrow     False   \n",
       "cf3a08f8-f3e2-4bbb-a7da-33d8945424d8.h5ad        Liver     False   \n",
       "fbcf7e24-d269-42e8-90d6-b9aeb51db36b.h5ad        Liver     False   \n",
       "\n",
       "                                           has_latent_embedding  is_annotated  \n",
       "key                                                                            \n",
       "0e6263fb-01f5-4b9a-8f30-35f6cda125de.h5ad                  True          True  \n",
       "9375735f-c715-4d15-9b18-de622e412ddc.h5ad                  True          True  \n",
       "9fa65f45-d96e-4bac-b6e2-78027df51d22.h5ad                  True          True  \n",
       "cf3a08f8-f3e2-4bbb-a7da-33d8945424d8.h5ad                  True          True  \n",
       "fbcf7e24-d269-42e8-90d6-b9aeb51db36b.h5ad                  True          True  "
      ]
     },
     "execution_count": 7,
     "metadata": {},
     "output_type": "execute_result"
    }
   ],
   "source": [
    "df = ts_ref.get_datasets_df()\n",
    "df"
   ]
  },
  {
   "cell_type": "code",
   "execution_count": 9,
   "id": "dff19a0b",
   "metadata": {},
   "outputs": [],
   "source": [
    "adata = ts_ref.load_dataset(\"fbcf7e24-d269-42e8-90d6-b9aeb51db36b.h5ad\")"
   ]
  },
  {
   "cell_type": "code",
   "execution_count": 10,
   "id": "a8d7532c",
   "metadata": {},
   "outputs": [
    {
     "data": {
      "text/plain": [
       "AnnData object with n_obs × n_vars = 5007 × 2000\n",
       "    obs: 'organ_tissue', 'method', 'donor', 'anatomical_information', 'n_counts_UMIs', 'n_genes', 'cell_ontology_class', 'free_annotation', 'manually_annotated', 'compartment', 'gender', 'donor_method', '_scvi_batch', '_scvi_labels'\n",
       "    var: 'gene_symbol', 'feature_type', 'ensemblid', 'highly_variable', 'means', 'dispersions', 'dispersions_norm', 'mean', 'std', 'n_counts', 'highly_variable_rank', 'variances', 'variances_norm', 'highly_variable_nbatches'\n",
       "    uns: '_scvi', '_scvi_manager_uuid', '_scvi_uuid', '_training_mode', 'cell_ontology_class_colors', 'dendrogram_cell_type_tissue', 'dendrogram_computational_compartment_assignment', 'dendrogram_consensus_prediction', 'dendrogram_tissue_cell_type', 'donor_colors', 'donor_method_colors', 'hvg', 'method_colors', 'neighbors', 'organ_tissue_colors', 'sex_colors', 'tissue_colors', 'umap'\n",
       "    obsm: 'X_pca', 'X_scvi', 'X_scvi_umap', 'X_umap'\n",
       "    layers: 'decontXcounts', 'raw_counts'\n",
       "    obsp: 'connectivities', 'distances'"
      ]
     },
     "execution_count": 10,
     "metadata": {},
     "output_type": "execute_result"
    }
   ],
   "source": [
    "adata"
   ]
  },
  {
   "cell_type": "markdown",
   "id": "5e0dd997",
   "metadata": {},
   "source": [
    "### Upload dataset"
   ]
  },
  {
   "cell_type": "code",
   "execution_count": 16,
   "id": "31ebdf6c",
   "metadata": {},
   "outputs": [],
   "source": [
    "dsm = scvimadz.reference.DatasetMetadata(\"Germ Line\", False, True, True)"
   ]
  },
  {
   "cell_type": "code",
   "execution_count": 17,
   "id": "fc768122",
   "metadata": {},
   "outputs": [
    {
     "data": {
      "text/plain": [
       "'6513306'"
      ]
     },
     "execution_count": 17,
     "metadata": {},
     "output_type": "execute_result"
    }
   ],
   "source": [
    "ts_ref.data_store._record_id"
   ]
  },
  {
   "cell_type": "code",
   "execution_count": 18,
   "id": "c7315ab0",
   "metadata": {},
   "outputs": [],
   "source": [
    "token_file_path = f\"{demo_dir}/token.txt\"\n",
    "with open(token_file_path) as f:\n",
    "    token = f.readlines()[0]"
   ]
  },
  {
   "cell_type": "code",
   "execution_count": 19,
   "id": "8238cc58",
   "metadata": {},
   "outputs": [
    {
     "name": "stderr",
     "output_type": "stream",
     "text": [
      "/Users/valehvpa/GitRepos/scvi-model-zoo/scvimadz/reference/base/_base_reference.py:180: FutureWarning: The frame.append method is deprecated and will be removed from pandas in a future version. Use pandas.concat instead.\n",
      "  metadata_df = metadata_df.reset_index().append(new_df).set_index(\"key\")\n"
     ]
    },
    {
     "name": "stdout",
     "output_type": "stream",
     "text": [
      "Published new version. New doi: 6640358\n",
      "Uploaded dataset successfully. Dataset_id is: c39699d3-a68b-44af-98d2-c65dddffa474.h5ad.\n"
     ]
    }
   ],
   "source": [
    "file_path = f\"{demo_dir}/TS_germline.h5ad\"\n",
    "dataset_id = ts_ref.save_dataset(file_path, token, True, dsm)"
   ]
  },
  {
   "cell_type": "code",
   "execution_count": 20,
   "id": "db76a5c4",
   "metadata": {},
   "outputs": [],
   "source": [
    "del token\n",
    "del f"
   ]
  },
  {
   "cell_type": "code",
   "execution_count": 21,
   "id": "5dc1dd6f",
   "metadata": {},
   "outputs": [
    {
     "data": {
      "text/plain": [
       "'6640358'"
      ]
     },
     "execution_count": 21,
     "metadata": {},
     "output_type": "execute_result"
    }
   ],
   "source": [
    "ts_ref.data_store._record_id"
   ]
  },
  {
   "cell_type": "code",
   "execution_count": 22,
   "id": "f9cbc1e5",
   "metadata": {},
   "outputs": [
    {
     "data": {
      "text/html": [
       "<div>\n",
       "<style scoped>\n",
       "    .dataframe tbody tr th:only-of-type {\n",
       "        vertical-align: middle;\n",
       "    }\n",
       "\n",
       "    .dataframe tbody tr th {\n",
       "        vertical-align: top;\n",
       "    }\n",
       "\n",
       "    .dataframe thead th {\n",
       "        text-align: right;\n",
       "    }\n",
       "</style>\n",
       "<table border=\"1\" class=\"dataframe\">\n",
       "  <thead>\n",
       "    <tr style=\"text-align: right;\">\n",
       "      <th></th>\n",
       "      <th>cell_count</th>\n",
       "      <th>gene_count</th>\n",
       "      <th>tissue</th>\n",
       "      <th>has_cite</th>\n",
       "      <th>has_latent_embedding</th>\n",
       "      <th>is_annotated</th>\n",
       "    </tr>\n",
       "    <tr>\n",
       "      <th>key</th>\n",
       "      <th></th>\n",
       "      <th></th>\n",
       "      <th></th>\n",
       "      <th></th>\n",
       "      <th></th>\n",
       "      <th></th>\n",
       "    </tr>\n",
       "  </thead>\n",
       "  <tbody>\n",
       "    <tr>\n",
       "      <th>0e6263fb-01f5-4b9a-8f30-35f6cda125de.h5ad</th>\n",
       "      <td>35682</td>\n",
       "      <td>2000</td>\n",
       "      <td>Lung</td>\n",
       "      <td>False</td>\n",
       "      <td>True</td>\n",
       "      <td>True</td>\n",
       "    </tr>\n",
       "    <tr>\n",
       "      <th>9375735f-c715-4d15-9b18-de622e412ddc.h5ad</th>\n",
       "      <td>35682</td>\n",
       "      <td>58870</td>\n",
       "      <td>Lung</td>\n",
       "      <td>False</td>\n",
       "      <td>True</td>\n",
       "      <td>True</td>\n",
       "    </tr>\n",
       "    <tr>\n",
       "      <th>9fa65f45-d96e-4bac-b6e2-78027df51d22.h5ad</th>\n",
       "      <td>12297</td>\n",
       "      <td>58870</td>\n",
       "      <td>Bone Marrow</td>\n",
       "      <td>False</td>\n",
       "      <td>True</td>\n",
       "      <td>True</td>\n",
       "    </tr>\n",
       "    <tr>\n",
       "      <th>c39699d3-a68b-44af-98d2-c65dddffa474.h5ad</th>\n",
       "      <td>11</td>\n",
       "      <td>58870</td>\n",
       "      <td>Germ Line</td>\n",
       "      <td>False</td>\n",
       "      <td>True</td>\n",
       "      <td>True</td>\n",
       "    </tr>\n",
       "    <tr>\n",
       "      <th>cf3a08f8-f3e2-4bbb-a7da-33d8945424d8.h5ad</th>\n",
       "      <td>5007</td>\n",
       "      <td>58870</td>\n",
       "      <td>Liver</td>\n",
       "      <td>False</td>\n",
       "      <td>True</td>\n",
       "      <td>True</td>\n",
       "    </tr>\n",
       "    <tr>\n",
       "      <th>fbcf7e24-d269-42e8-90d6-b9aeb51db36b.h5ad</th>\n",
       "      <td>5007</td>\n",
       "      <td>2000</td>\n",
       "      <td>Liver</td>\n",
       "      <td>False</td>\n",
       "      <td>True</td>\n",
       "      <td>True</td>\n",
       "    </tr>\n",
       "  </tbody>\n",
       "</table>\n",
       "</div>"
      ],
      "text/plain": [
       "                                           cell_count  gene_count  \\\n",
       "key                                                                 \n",
       "0e6263fb-01f5-4b9a-8f30-35f6cda125de.h5ad       35682        2000   \n",
       "9375735f-c715-4d15-9b18-de622e412ddc.h5ad       35682       58870   \n",
       "9fa65f45-d96e-4bac-b6e2-78027df51d22.h5ad       12297       58870   \n",
       "c39699d3-a68b-44af-98d2-c65dddffa474.h5ad          11       58870   \n",
       "cf3a08f8-f3e2-4bbb-a7da-33d8945424d8.h5ad        5007       58870   \n",
       "fbcf7e24-d269-42e8-90d6-b9aeb51db36b.h5ad        5007        2000   \n",
       "\n",
       "                                                tissue  has_cite  \\\n",
       "key                                                                \n",
       "0e6263fb-01f5-4b9a-8f30-35f6cda125de.h5ad         Lung     False   \n",
       "9375735f-c715-4d15-9b18-de622e412ddc.h5ad         Lung     False   \n",
       "9fa65f45-d96e-4bac-b6e2-78027df51d22.h5ad  Bone Marrow     False   \n",
       "c39699d3-a68b-44af-98d2-c65dddffa474.h5ad    Germ Line     False   \n",
       "cf3a08f8-f3e2-4bbb-a7da-33d8945424d8.h5ad        Liver     False   \n",
       "fbcf7e24-d269-42e8-90d6-b9aeb51db36b.h5ad        Liver     False   \n",
       "\n",
       "                                           has_latent_embedding  is_annotated  \n",
       "key                                                                            \n",
       "0e6263fb-01f5-4b9a-8f30-35f6cda125de.h5ad                  True          True  \n",
       "9375735f-c715-4d15-9b18-de622e412ddc.h5ad                  True          True  \n",
       "9fa65f45-d96e-4bac-b6e2-78027df51d22.h5ad                  True          True  \n",
       "c39699d3-a68b-44af-98d2-c65dddffa474.h5ad                  True          True  \n",
       "cf3a08f8-f3e2-4bbb-a7da-33d8945424d8.h5ad                  True          True  \n",
       "fbcf7e24-d269-42e8-90d6-b9aeb51db36b.h5ad                  True          True  "
      ]
     },
     "execution_count": 22,
     "metadata": {},
     "output_type": "execute_result"
    }
   ],
   "source": [
    "df = ts_ref.get_datasets_df()\n",
    "df"
   ]
  },
  {
   "cell_type": "markdown",
   "id": "9dfebb14",
   "metadata": {},
   "source": [
    "## Models"
   ]
  },
  {
   "cell_type": "code",
   "execution_count": 23,
   "id": "e16cef1c",
   "metadata": {},
   "outputs": [
    {
     "data": {
      "text/html": [
       "<div>\n",
       "<style scoped>\n",
       "    .dataframe tbody tr th:only-of-type {\n",
       "        vertical-align: middle;\n",
       "    }\n",
       "\n",
       "    .dataframe tbody tr th {\n",
       "        vertical-align: top;\n",
       "    }\n",
       "\n",
       "    .dataframe thead th {\n",
       "        text-align: right;\n",
       "    }\n",
       "</style>\n",
       "<table border=\"1\" class=\"dataframe\">\n",
       "  <thead>\n",
       "    <tr style=\"text-align: right;\">\n",
       "      <th></th>\n",
       "      <th>class_name</th>\n",
       "      <th>train_dataset</th>\n",
       "      <th>n_hidden</th>\n",
       "      <th>n_layers</th>\n",
       "      <th>n_latent</th>\n",
       "      <th>use_observed_lib_size</th>\n",
       "      <th>init_params</th>\n",
       "    </tr>\n",
       "    <tr>\n",
       "      <th>key</th>\n",
       "      <th></th>\n",
       "      <th></th>\n",
       "      <th></th>\n",
       "      <th></th>\n",
       "      <th></th>\n",
       "      <th></th>\n",
       "      <th></th>\n",
       "    </tr>\n",
       "  </thead>\n",
       "  <tbody>\n",
       "    <tr>\n",
       "      <th>1bfbf358-4223-4791-968a-1e5b0b2435c7.pt</th>\n",
       "      <td>scvi.model.SCVI</td>\n",
       "      <td>fbcf7e24-d269-42e8-90d6-b9aeb51db36b.h5ad</td>\n",
       "      <td>128</td>\n",
       "      <td>1</td>\n",
       "      <td>10</td>\n",
       "      <td>True</td>\n",
       "      <td>{'kwargs': {'model_kwargs': {}}, 'non_kwargs':...</td>\n",
       "    </tr>\n",
       "    <tr>\n",
       "      <th>bfeb6529-8db7-46ce-99f6-237748798ae4.pt</th>\n",
       "      <td>scvi.model.SCVI</td>\n",
       "      <td>0e6263fb-01f5-4b9a-8f30-35f6cda125de.h5ad</td>\n",
       "      <td>128</td>\n",
       "      <td>1</td>\n",
       "      <td>10</td>\n",
       "      <td>True</td>\n",
       "      <td>{'kwargs': {'model_kwargs': {}}, 'non_kwargs':...</td>\n",
       "    </tr>\n",
       "  </tbody>\n",
       "</table>\n",
       "</div>"
      ],
      "text/plain": [
       "                                              class_name  \\\n",
       "key                                                        \n",
       "1bfbf358-4223-4791-968a-1e5b0b2435c7.pt  scvi.model.SCVI   \n",
       "bfeb6529-8db7-46ce-99f6-237748798ae4.pt  scvi.model.SCVI   \n",
       "\n",
       "                                                                     train_dataset  \\\n",
       "key                                                                                  \n",
       "1bfbf358-4223-4791-968a-1e5b0b2435c7.pt  fbcf7e24-d269-42e8-90d6-b9aeb51db36b.h5ad   \n",
       "bfeb6529-8db7-46ce-99f6-237748798ae4.pt  0e6263fb-01f5-4b9a-8f30-35f6cda125de.h5ad   \n",
       "\n",
       "                                         n_hidden  n_layers  n_latent  \\\n",
       "key                                                                     \n",
       "1bfbf358-4223-4791-968a-1e5b0b2435c7.pt       128         1        10   \n",
       "bfeb6529-8db7-46ce-99f6-237748798ae4.pt       128         1        10   \n",
       "\n",
       "                                         use_observed_lib_size  \\\n",
       "key                                                              \n",
       "1bfbf358-4223-4791-968a-1e5b0b2435c7.pt                   True   \n",
       "bfeb6529-8db7-46ce-99f6-237748798ae4.pt                   True   \n",
       "\n",
       "                                                                               init_params  \n",
       "key                                                                                         \n",
       "1bfbf358-4223-4791-968a-1e5b0b2435c7.pt  {'kwargs': {'model_kwargs': {}}, 'non_kwargs':...  \n",
       "bfeb6529-8db7-46ce-99f6-237748798ae4.pt  {'kwargs': {'model_kwargs': {}}, 'non_kwargs':...  "
      ]
     },
     "execution_count": 23,
     "metadata": {},
     "output_type": "execute_result"
    }
   ],
   "source": [
    "df = ts_ref.get_models_df()\n",
    "df"
   ]
  },
  {
   "cell_type": "code",
   "execution_count": 26,
   "id": "1ba4d360",
   "metadata": {},
   "outputs": [],
   "source": [
    "model = ts_ref.load_model(\"1bfbf358-4223-4791-968a-1e5b0b2435c7.pt\")"
   ]
  },
  {
   "cell_type": "code",
   "execution_count": 27,
   "id": "1d13366d",
   "metadata": {},
   "outputs": [
    {
     "data": {
      "text/html": [
       "<pre style=\"white-space:pre;overflow-x:auto;line-height:normal;font-family:Menlo,'DejaVu Sans Mono',consolas,'Courier New',monospace\">SCVI Model with the following params: \n",
       "n_hidden: <span style=\"color: #000080; text-decoration-color: #000080; font-weight: bold\">128</span>, n_latent: <span style=\"color: #000080; text-decoration-color: #000080; font-weight: bold\">10</span>, n_layers: <span style=\"color: #000080; text-decoration-color: #000080; font-weight: bold\">1</span>, dropout_rate: <span style=\"color: #000080; text-decoration-color: #000080; font-weight: bold\">0.1</span>, dispersion: gene, \n",
       "gene_likelihood: zinb, latent_distribution: normal\n",
       "Training status: Trained\n",
       "</pre>\n"
      ],
      "text/plain": [
       "<rich.jupyter.JupyterRenderable at 0x151662a30>"
      ]
     },
     "metadata": {},
     "output_type": "display_data"
    },
    {
     "data": {
      "text/plain": []
     },
     "execution_count": 27,
     "metadata": {},
     "output_type": "execute_result"
    }
   ],
   "source": [
    "model"
   ]
  },
  {
   "cell_type": "markdown",
   "id": "d5d64115",
   "metadata": {},
   "source": [
    "### Upload model"
   ]
  },
  {
   "cell_type": "markdown",
   "id": "aefe33ca",
   "metadata": {},
   "source": [
    "Note: Before executing the below, we updated the data store behind the scenes to contain a couple of new datasets, one of which the model below was pre-trained on."
   ]
  },
  {
   "cell_type": "code",
   "execution_count": 30,
   "id": "a64e65f6",
   "metadata": {},
   "outputs": [],
   "source": [
    "init_params = \"{'kwargs': {'model_kwargs': {}}, 'non_kwargs': {'n_hidden': 128, 'n_latent': 10, 'n_layers': 1, 'dropout_rate': 0.1, 'dispersion': 'gene', 'gene_likelihood': 'zinb', 'latent_distribution': 'normal'}}\"\n",
    "mm = scvimadz.reference.ModelMetadata(\"scvi.model.SCVI\", \"be3555c0-4a81-489f-ae06-f225c8049fa6.h5ad\", 128, 1, 10, True, init_params)"
   ]
  },
  {
   "cell_type": "code",
   "execution_count": 31,
   "id": "2132800d",
   "metadata": {},
   "outputs": [
    {
     "data": {
      "text/plain": [
       "'6513320'"
      ]
     },
     "execution_count": 31,
     "metadata": {},
     "output_type": "execute_result"
    }
   ],
   "source": [
    "ts_ref.model_store._record_id"
   ]
  },
  {
   "cell_type": "code",
   "execution_count": 33,
   "id": "2142bc09",
   "metadata": {},
   "outputs": [],
   "source": [
    "token_file_path = f\"{demo_dir}/token.txt\"\n",
    "with open(token_file_path) as f:\n",
    "    token = f.readlines()[0]"
   ]
  },
  {
   "cell_type": "code",
   "execution_count": 34,
   "id": "e2fb8fb8",
   "metadata": {},
   "outputs": [
    {
     "name": "stderr",
     "output_type": "stream",
     "text": [
      "/Users/valehvpa/GitRepos/scvi-model-zoo/scvimadz/reference/base/_base_reference.py:180: FutureWarning: The frame.append method is deprecated and will be removed from pandas in a future version. Use pandas.concat instead.\n",
      "  metadata_df = metadata_df.reset_index().append(new_df).set_index(\"key\")\n"
     ]
    },
    {
     "name": "stdout",
     "output_type": "stream",
     "text": [
      "Published new version. New doi: 6640408\n",
      "Uploaded model successfully. Model_id is: 5f2f57bd-1712-4564-bc7c-cf556c05721a.pt.\n"
     ]
    }
   ],
   "source": [
    "file_path = f\"{demo_dir}/my_model_skin/model.pt\"\n",
    "model_id = ts_ref.save_model(file_path, token, True, mm)"
   ]
  },
  {
   "cell_type": "code",
   "execution_count": 35,
   "id": "248b7c7e",
   "metadata": {},
   "outputs": [
    {
     "data": {
      "text/plain": [
       "'6640408'"
      ]
     },
     "execution_count": 35,
     "metadata": {},
     "output_type": "execute_result"
    }
   ],
   "source": [
    "ts_ref.model_store._record_id"
   ]
  },
  {
   "cell_type": "code",
   "execution_count": 36,
   "id": "ba3088e7",
   "metadata": {},
   "outputs": [
    {
     "data": {
      "text/html": [
       "<div>\n",
       "<style scoped>\n",
       "    .dataframe tbody tr th:only-of-type {\n",
       "        vertical-align: middle;\n",
       "    }\n",
       "\n",
       "    .dataframe tbody tr th {\n",
       "        vertical-align: top;\n",
       "    }\n",
       "\n",
       "    .dataframe thead th {\n",
       "        text-align: right;\n",
       "    }\n",
       "</style>\n",
       "<table border=\"1\" class=\"dataframe\">\n",
       "  <thead>\n",
       "    <tr style=\"text-align: right;\">\n",
       "      <th></th>\n",
       "      <th>class_name</th>\n",
       "      <th>train_dataset</th>\n",
       "      <th>n_hidden</th>\n",
       "      <th>n_layers</th>\n",
       "      <th>n_latent</th>\n",
       "      <th>use_observed_lib_size</th>\n",
       "      <th>init_params</th>\n",
       "    </tr>\n",
       "    <tr>\n",
       "      <th>key</th>\n",
       "      <th></th>\n",
       "      <th></th>\n",
       "      <th></th>\n",
       "      <th></th>\n",
       "      <th></th>\n",
       "      <th></th>\n",
       "      <th></th>\n",
       "    </tr>\n",
       "  </thead>\n",
       "  <tbody>\n",
       "    <tr>\n",
       "      <th>1bfbf358-4223-4791-968a-1e5b0b2435c7.pt</th>\n",
       "      <td>scvi.model.SCVI</td>\n",
       "      <td>fbcf7e24-d269-42e8-90d6-b9aeb51db36b.h5ad</td>\n",
       "      <td>128</td>\n",
       "      <td>1</td>\n",
       "      <td>10</td>\n",
       "      <td>True</td>\n",
       "      <td>{'kwargs': {'model_kwargs': {}}, 'non_kwargs':...</td>\n",
       "    </tr>\n",
       "    <tr>\n",
       "      <th>5f2f57bd-1712-4564-bc7c-cf556c05721a.pt</th>\n",
       "      <td>scvi.model.SCVI</td>\n",
       "      <td>be3555c0-4a81-489f-ae06-f225c8049fa6.h5ad</td>\n",
       "      <td>128</td>\n",
       "      <td>1</td>\n",
       "      <td>10</td>\n",
       "      <td>True</td>\n",
       "      <td>{'kwargs': {'model_kwargs': {}}, 'non_kwargs':...</td>\n",
       "    </tr>\n",
       "    <tr>\n",
       "      <th>bfeb6529-8db7-46ce-99f6-237748798ae4.pt</th>\n",
       "      <td>scvi.model.SCVI</td>\n",
       "      <td>0e6263fb-01f5-4b9a-8f30-35f6cda125de.h5ad</td>\n",
       "      <td>128</td>\n",
       "      <td>1</td>\n",
       "      <td>10</td>\n",
       "      <td>True</td>\n",
       "      <td>{'kwargs': {'model_kwargs': {}}, 'non_kwargs':...</td>\n",
       "    </tr>\n",
       "  </tbody>\n",
       "</table>\n",
       "</div>"
      ],
      "text/plain": [
       "                                              class_name  \\\n",
       "key                                                        \n",
       "1bfbf358-4223-4791-968a-1e5b0b2435c7.pt  scvi.model.SCVI   \n",
       "5f2f57bd-1712-4564-bc7c-cf556c05721a.pt  scvi.model.SCVI   \n",
       "bfeb6529-8db7-46ce-99f6-237748798ae4.pt  scvi.model.SCVI   \n",
       "\n",
       "                                                                     train_dataset  \\\n",
       "key                                                                                  \n",
       "1bfbf358-4223-4791-968a-1e5b0b2435c7.pt  fbcf7e24-d269-42e8-90d6-b9aeb51db36b.h5ad   \n",
       "5f2f57bd-1712-4564-bc7c-cf556c05721a.pt  be3555c0-4a81-489f-ae06-f225c8049fa6.h5ad   \n",
       "bfeb6529-8db7-46ce-99f6-237748798ae4.pt  0e6263fb-01f5-4b9a-8f30-35f6cda125de.h5ad   \n",
       "\n",
       "                                         n_hidden  n_layers  n_latent  \\\n",
       "key                                                                     \n",
       "1bfbf358-4223-4791-968a-1e5b0b2435c7.pt       128         1        10   \n",
       "5f2f57bd-1712-4564-bc7c-cf556c05721a.pt       128         1        10   \n",
       "bfeb6529-8db7-46ce-99f6-237748798ae4.pt       128         1        10   \n",
       "\n",
       "                                         use_observed_lib_size  \\\n",
       "key                                                              \n",
       "1bfbf358-4223-4791-968a-1e5b0b2435c7.pt                   True   \n",
       "5f2f57bd-1712-4564-bc7c-cf556c05721a.pt                   True   \n",
       "bfeb6529-8db7-46ce-99f6-237748798ae4.pt                   True   \n",
       "\n",
       "                                                                               init_params  \n",
       "key                                                                                         \n",
       "1bfbf358-4223-4791-968a-1e5b0b2435c7.pt  {'kwargs': {'model_kwargs': {}}, 'non_kwargs':...  \n",
       "5f2f57bd-1712-4564-bc7c-cf556c05721a.pt  {'kwargs': {'model_kwargs': {}}, 'non_kwargs':...  \n",
       "bfeb6529-8db7-46ce-99f6-237748798ae4.pt  {'kwargs': {'model_kwargs': {}}, 'non_kwargs':...  "
      ]
     },
     "execution_count": 36,
     "metadata": {},
     "output_type": "execute_result"
    }
   ],
   "source": [
    "df = ts_ref.get_models_df()\n",
    "df"
   ]
  },
  {
   "cell_type": "code",
   "execution_count": 37,
   "id": "eb84a995",
   "metadata": {},
   "outputs": [],
   "source": [
    "del token"
   ]
  },
  {
   "cell_type": "code",
   "execution_count": 38,
   "id": "04dce3f7",
   "metadata": {},
   "outputs": [],
   "source": [
    "del f"
   ]
  },
  {
   "cell_type": "code",
   "execution_count": null,
   "id": "f5923372",
   "metadata": {},
   "outputs": [],
   "source": []
  }
 ],
 "metadata": {
  "kernelspec": {
   "display_name": "Python 3 (ipykernel)",
   "language": "python",
   "name": "python3"
  },
  "language_info": {
   "codemirror_mode": {
    "name": "ipython",
    "version": 3
   },
   "file_extension": ".py",
   "mimetype": "text/x-python",
   "name": "python",
   "nbconvert_exporter": "python",
   "pygments_lexer": "ipython3",
   "version": "3.9.6"
  }
 },
 "nbformat": 4,
 "nbformat_minor": 5
}
