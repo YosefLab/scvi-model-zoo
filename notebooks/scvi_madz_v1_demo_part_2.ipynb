{
 "cells": [
  {
   "cell_type": "code",
   "execution_count": 30,
   "id": "8c4ac6e3",
   "metadata": {},
   "outputs": [],
   "source": [
    "import scvimadz\n",
    "import scvi\n",
    "import anndata\n",
    "import pandas as pd\n",
    "import numpy as np\n",
    "import scanpy as sc"
   ]
  },
  {
   "cell_type": "code",
   "execution_count": 2,
   "id": "af4eef55",
   "metadata": {},
   "outputs": [],
   "source": [
    "%load_ext autoreload\n",
    "%autoreload 2"
   ]
  },
  {
   "cell_type": "code",
   "execution_count": 3,
   "id": "5de28321",
   "metadata": {},
   "outputs": [],
   "source": [
    "demo_dir = \"/Users/valehvpa/Desktop/scvi-madz-demo\"\n",
    "data_dir = f\"{demo_dir}/demo_data_dir\"\n",
    "ts_ref = scvimadz.reference.TabulaSapiensReference(data_dir)"
   ]
  },
  {
   "cell_type": "code",
   "execution_count": 4,
   "id": "b45dad0b",
   "metadata": {},
   "outputs": [
    {
     "data": {
      "text/html": [
       "<div>\n",
       "<style scoped>\n",
       "    .dataframe tbody tr th:only-of-type {\n",
       "        vertical-align: middle;\n",
       "    }\n",
       "\n",
       "    .dataframe tbody tr th {\n",
       "        vertical-align: top;\n",
       "    }\n",
       "\n",
       "    .dataframe thead th {\n",
       "        text-align: right;\n",
       "    }\n",
       "</style>\n",
       "<table border=\"1\" class=\"dataframe\">\n",
       "  <thead>\n",
       "    <tr style=\"text-align: right;\">\n",
       "      <th></th>\n",
       "      <th>cell_count</th>\n",
       "      <th>gene_count</th>\n",
       "      <th>tissue</th>\n",
       "      <th>has_cite</th>\n",
       "      <th>has_latent_embedding</th>\n",
       "      <th>is_annotated</th>\n",
       "    </tr>\n",
       "    <tr>\n",
       "      <th>key</th>\n",
       "      <th></th>\n",
       "      <th></th>\n",
       "      <th></th>\n",
       "      <th></th>\n",
       "      <th></th>\n",
       "      <th></th>\n",
       "    </tr>\n",
       "  </thead>\n",
       "  <tbody>\n",
       "    <tr>\n",
       "      <th>0e6263fb-01f5-4b9a-8f30-35f6cda125de.h5ad</th>\n",
       "      <td>35682</td>\n",
       "      <td>2000</td>\n",
       "      <td>Lung</td>\n",
       "      <td>False</td>\n",
       "      <td>True</td>\n",
       "      <td>True</td>\n",
       "    </tr>\n",
       "    <tr>\n",
       "      <th>9375735f-c715-4d15-9b18-de622e412ddc.h5ad</th>\n",
       "      <td>35682</td>\n",
       "      <td>58870</td>\n",
       "      <td>Lung</td>\n",
       "      <td>False</td>\n",
       "      <td>True</td>\n",
       "      <td>True</td>\n",
       "    </tr>\n",
       "    <tr>\n",
       "      <th>9fa65f45-d96e-4bac-b6e2-78027df51d22.h5ad</th>\n",
       "      <td>12297</td>\n",
       "      <td>58870</td>\n",
       "      <td>Bone Marrow</td>\n",
       "      <td>False</td>\n",
       "      <td>True</td>\n",
       "      <td>True</td>\n",
       "    </tr>\n",
       "    <tr>\n",
       "      <th>cf3a08f8-f3e2-4bbb-a7da-33d8945424d8.h5ad</th>\n",
       "      <td>5007</td>\n",
       "      <td>58870</td>\n",
       "      <td>Liver</td>\n",
       "      <td>False</td>\n",
       "      <td>True</td>\n",
       "      <td>True</td>\n",
       "    </tr>\n",
       "    <tr>\n",
       "      <th>fbcf7e24-d269-42e8-90d6-b9aeb51db36b.h5ad</th>\n",
       "      <td>5007</td>\n",
       "      <td>2000</td>\n",
       "      <td>Liver</td>\n",
       "      <td>False</td>\n",
       "      <td>True</td>\n",
       "      <td>True</td>\n",
       "    </tr>\n",
       "  </tbody>\n",
       "</table>\n",
       "</div>"
      ],
      "text/plain": [
       "                                           cell_count  gene_count  \\\n",
       "key                                                                 \n",
       "0e6263fb-01f5-4b9a-8f30-35f6cda125de.h5ad       35682        2000   \n",
       "9375735f-c715-4d15-9b18-de622e412ddc.h5ad       35682       58870   \n",
       "9fa65f45-d96e-4bac-b6e2-78027df51d22.h5ad       12297       58870   \n",
       "cf3a08f8-f3e2-4bbb-a7da-33d8945424d8.h5ad        5007       58870   \n",
       "fbcf7e24-d269-42e8-90d6-b9aeb51db36b.h5ad        5007        2000   \n",
       "\n",
       "                                                tissue  has_cite  \\\n",
       "key                                                                \n",
       "0e6263fb-01f5-4b9a-8f30-35f6cda125de.h5ad         Lung     False   \n",
       "9375735f-c715-4d15-9b18-de622e412ddc.h5ad         Lung     False   \n",
       "9fa65f45-d96e-4bac-b6e2-78027df51d22.h5ad  Bone Marrow     False   \n",
       "cf3a08f8-f3e2-4bbb-a7da-33d8945424d8.h5ad        Liver     False   \n",
       "fbcf7e24-d269-42e8-90d6-b9aeb51db36b.h5ad        Liver     False   \n",
       "\n",
       "                                           has_latent_embedding  is_annotated  \n",
       "key                                                                            \n",
       "0e6263fb-01f5-4b9a-8f30-35f6cda125de.h5ad                  True          True  \n",
       "9375735f-c715-4d15-9b18-de622e412ddc.h5ad                  True          True  \n",
       "9fa65f45-d96e-4bac-b6e2-78027df51d22.h5ad                  True          True  \n",
       "cf3a08f8-f3e2-4bbb-a7da-33d8945424d8.h5ad                  True          True  \n",
       "fbcf7e24-d269-42e8-90d6-b9aeb51db36b.h5ad                  True          True  "
      ]
     },
     "execution_count": 4,
     "metadata": {},
     "output_type": "execute_result"
    }
   ],
   "source": [
    "ts_ref.get_datasets_df()"
   ]
  },
  {
   "cell_type": "code",
   "execution_count": 10,
   "id": "e16cef1c",
   "metadata": {},
   "outputs": [
    {
     "data": {
      "text/html": [
       "<div>\n",
       "<style scoped>\n",
       "    .dataframe tbody tr th:only-of-type {\n",
       "        vertical-align: middle;\n",
       "    }\n",
       "\n",
       "    .dataframe tbody tr th {\n",
       "        vertical-align: top;\n",
       "    }\n",
       "\n",
       "    .dataframe thead th {\n",
       "        text-align: right;\n",
       "    }\n",
       "</style>\n",
       "<table border=\"1\" class=\"dataframe\">\n",
       "  <thead>\n",
       "    <tr style=\"text-align: right;\">\n",
       "      <th></th>\n",
       "      <th>class_name</th>\n",
       "      <th>train_dataset</th>\n",
       "      <th>n_hidden</th>\n",
       "      <th>n_layers</th>\n",
       "      <th>n_latent</th>\n",
       "      <th>use_observed_lib_size</th>\n",
       "      <th>init_params</th>\n",
       "    </tr>\n",
       "    <tr>\n",
       "      <th>key</th>\n",
       "      <th></th>\n",
       "      <th></th>\n",
       "      <th></th>\n",
       "      <th></th>\n",
       "      <th></th>\n",
       "      <th></th>\n",
       "      <th></th>\n",
       "    </tr>\n",
       "  </thead>\n",
       "  <tbody>\n",
       "    <tr>\n",
       "      <th>1bfbf358-4223-4791-968a-1e5b0b2435c7.pt</th>\n",
       "      <td>scvi.model.SCVI</td>\n",
       "      <td>fbcf7e24-d269-42e8-90d6-b9aeb51db36b.h5ad</td>\n",
       "      <td>128</td>\n",
       "      <td>1</td>\n",
       "      <td>10</td>\n",
       "      <td>True</td>\n",
       "      <td>{'kwargs': {'model_kwargs': {}}, 'non_kwargs':...</td>\n",
       "    </tr>\n",
       "    <tr>\n",
       "      <th>bfeb6529-8db7-46ce-99f6-237748798ae4.pt</th>\n",
       "      <td>scvi.model.SCVI</td>\n",
       "      <td>0e6263fb-01f5-4b9a-8f30-35f6cda125de.h5ad</td>\n",
       "      <td>128</td>\n",
       "      <td>1</td>\n",
       "      <td>10</td>\n",
       "      <td>True</td>\n",
       "      <td>{'kwargs': {'model_kwargs': {}}, 'non_kwargs':...</td>\n",
       "    </tr>\n",
       "  </tbody>\n",
       "</table>\n",
       "</div>"
      ],
      "text/plain": [
       "                                              class_name  \\\n",
       "key                                                        \n",
       "1bfbf358-4223-4791-968a-1e5b0b2435c7.pt  scvi.model.SCVI   \n",
       "bfeb6529-8db7-46ce-99f6-237748798ae4.pt  scvi.model.SCVI   \n",
       "\n",
       "                                                                     train_dataset  \\\n",
       "key                                                                                  \n",
       "1bfbf358-4223-4791-968a-1e5b0b2435c7.pt  fbcf7e24-d269-42e8-90d6-b9aeb51db36b.h5ad   \n",
       "bfeb6529-8db7-46ce-99f6-237748798ae4.pt  0e6263fb-01f5-4b9a-8f30-35f6cda125de.h5ad   \n",
       "\n",
       "                                         n_hidden  n_layers  n_latent  \\\n",
       "key                                                                     \n",
       "1bfbf358-4223-4791-968a-1e5b0b2435c7.pt       128         1        10   \n",
       "bfeb6529-8db7-46ce-99f6-237748798ae4.pt       128         1        10   \n",
       "\n",
       "                                         use_observed_lib_size  \\\n",
       "key                                                              \n",
       "1bfbf358-4223-4791-968a-1e5b0b2435c7.pt                   True   \n",
       "bfeb6529-8db7-46ce-99f6-237748798ae4.pt                   True   \n",
       "\n",
       "                                                                               init_params  \n",
       "key                                                                                         \n",
       "1bfbf358-4223-4791-968a-1e5b0b2435c7.pt  {'kwargs': {'model_kwargs': {}}, 'non_kwargs':...  \n",
       "bfeb6529-8db7-46ce-99f6-237748798ae4.pt  {'kwargs': {'model_kwargs': {}}, 'non_kwargs':...  "
      ]
     },
     "execution_count": 10,
     "metadata": {},
     "output_type": "execute_result"
    }
   ],
   "source": [
    "df = ts_ref.get_models_df()\n",
    "df"
   ]
  },
  {
   "cell_type": "code",
   "execution_count": 16,
   "id": "1671e6bf",
   "metadata": {},
   "outputs": [],
   "source": [
    "model_key = \"1bfbf358-4223-4791-968a-1e5b0b2435c7.pt\""
   ]
  },
  {
   "cell_type": "code",
   "execution_count": 17,
   "id": "69f97a71",
   "metadata": {},
   "outputs": [
    {
     "data": {
      "text/plain": [
       "class_name                                                 scvi.model.SCVI\n",
       "train_dataset                    fbcf7e24-d269-42e8-90d6-b9aeb51db36b.h5ad\n",
       "n_hidden                                                               128\n",
       "n_layers                                                                 1\n",
       "n_latent                                                                10\n",
       "use_observed_lib_size                                                 True\n",
       "init_params              {'kwargs': {'model_kwargs': {}}, 'non_kwargs':...\n",
       "Name: 1bfbf358-4223-4791-968a-1e5b0b2435c7.pt, dtype: object"
      ]
     },
     "execution_count": 17,
     "metadata": {},
     "output_type": "execute_result"
    }
   ],
   "source": [
    "df.loc[model_key]"
   ]
  },
  {
   "cell_type": "code",
   "execution_count": 18,
   "id": "1b8254bd",
   "metadata": {},
   "outputs": [
    {
     "data": {
      "text/plain": [
       "\"{'kwargs': {'model_kwargs': {}}, 'non_kwargs': {'n_hidden': 128, 'n_latent': 10, 'n_layers': 1, 'dropout_rate': 0.1, 'dispersion': 'gene', 'gene_likelihood': 'zinb', 'latent_distribution': 'normal'}}\""
      ]
     },
     "execution_count": 18,
     "metadata": {},
     "output_type": "execute_result"
    }
   ],
   "source": [
    "df.loc[model_key][\"init_params\"]"
   ]
  },
  {
   "cell_type": "code",
   "execution_count": 6,
   "id": "1ba4d360",
   "metadata": {},
   "outputs": [],
   "source": [
    "model = ts_ref.load_model(model_key)"
   ]
  },
  {
   "cell_type": "code",
   "execution_count": 7,
   "id": "1d13366d",
   "metadata": {},
   "outputs": [
    {
     "data": {
      "text/html": [
       "<pre style=\"white-space:pre;overflow-x:auto;line-height:normal;font-family:Menlo,'DejaVu Sans Mono',consolas,'Courier New',monospace\">SCVI Model with the following params: \n",
       "n_hidden: <span style=\"color: #000080; text-decoration-color: #000080; font-weight: bold\">128</span>, n_latent: <span style=\"color: #000080; text-decoration-color: #000080; font-weight: bold\">10</span>, n_layers: <span style=\"color: #000080; text-decoration-color: #000080; font-weight: bold\">1</span>, dropout_rate: <span style=\"color: #000080; text-decoration-color: #000080; font-weight: bold\">0.1</span>, dispersion: gene, \n",
       "gene_likelihood: zinb, latent_distribution: normal\n",
       "Training status: Trained\n",
       "</pre>\n"
      ],
      "text/plain": [
       "<rich.jupyter.JupyterRenderable at 0x2933c1130>"
      ]
     },
     "metadata": {},
     "output_type": "display_data"
    },
    {
     "data": {
      "text/plain": []
     },
     "execution_count": 7,
     "metadata": {},
     "output_type": "execute_result"
    }
   ],
   "source": [
    "model"
   ]
  },
  {
   "cell_type": "code",
   "execution_count": 8,
   "id": "08d4b3d2",
   "metadata": {},
   "outputs": [
    {
     "data": {
      "text/plain": [
       "AnnData object with n_obs × n_vars = 5007 × 2000\n",
       "    obs: 'organ_tissue', 'method', 'donor', 'anatomical_information', 'n_counts_UMIs', 'n_genes', 'cell_ontology_class', 'free_annotation', 'manually_annotated', 'compartment', 'gender', 'donor_method', '_scvi_batch', '_scvi_labels'\n",
       "    var: 'gene_symbol', 'feature_type', 'ensemblid', 'highly_variable', 'means', 'dispersions', 'dispersions_norm', 'mean', 'std', 'n_counts', 'highly_variable_rank', 'variances', 'variances_norm', 'highly_variable_nbatches'\n",
       "    uns: '_scvi', '_scvi_manager_uuid', '_scvi_uuid', '_training_mode', 'cell_ontology_class_colors', 'dendrogram_cell_type_tissue', 'dendrogram_computational_compartment_assignment', 'dendrogram_consensus_prediction', 'dendrogram_tissue_cell_type', 'donor_colors', 'donor_method_colors', 'hvg', 'method_colors', 'neighbors', 'organ_tissue_colors', 'sex_colors', 'tissue_colors', 'umap'\n",
       "    obsm: 'X_pca', 'X_scvi', 'X_scvi_umap', 'X_umap'\n",
       "    layers: 'decontXcounts', 'raw_counts'\n",
       "    obsp: 'connectivities', 'distances'"
      ]
     },
     "execution_count": 8,
     "metadata": {},
     "output_type": "execute_result"
    }
   ],
   "source": [
    "model.adata"
   ]
  },
  {
   "cell_type": "code",
   "execution_count": 36,
   "id": "49d96edd",
   "metadata": {},
   "outputs": [],
   "source": [
    "adata = ts_ref.load_dataset(df.loc[model_key][\"train_dataset\"])"
   ]
  },
  {
   "cell_type": "code",
   "execution_count": 38,
   "id": "faaecbaa",
   "metadata": {},
   "outputs": [
    {
     "data": {
      "text/plain": [
       "AnnData object with n_obs × n_vars = 5007 × 2000\n",
       "    obs: 'organ_tissue', 'method', 'donor', 'anatomical_information', 'n_counts_UMIs', 'n_genes', 'cell_ontology_class', 'free_annotation', 'manually_annotated', 'compartment', 'gender', 'donor_method', '_scvi_batch', '_scvi_labels'\n",
       "    var: 'gene_symbol', 'feature_type', 'ensemblid', 'highly_variable', 'means', 'dispersions', 'dispersions_norm', 'mean', 'std', 'n_counts', 'highly_variable_rank', 'variances', 'variances_norm', 'highly_variable_nbatches'\n",
       "    uns: '_scvi', '_scvi_manager_uuid', '_scvi_uuid', '_training_mode', 'cell_ontology_class_colors', 'dendrogram_cell_type_tissue', 'dendrogram_computational_compartment_assignment', 'dendrogram_consensus_prediction', 'dendrogram_tissue_cell_type', 'donor_colors', 'donor_method_colors', 'hvg', 'method_colors', 'neighbors', 'organ_tissue_colors', 'sex_colors', 'tissue_colors', 'umap'\n",
       "    obsm: 'X_pca', 'X_scvi', 'X_scvi_umap', 'X_umap'\n",
       "    layers: 'decontXcounts', 'raw_counts'\n",
       "    obsp: 'connectivities', 'distances'"
      ]
     },
     "execution_count": 38,
     "metadata": {},
     "output_type": "execute_result"
    }
   ],
   "source": [
    "adata"
   ]
  },
  {
   "cell_type": "code",
   "execution_count": 39,
   "id": "80beac7a",
   "metadata": {},
   "outputs": [],
   "source": [
    "latent = model.get_latent_representation()"
   ]
  },
  {
   "cell_type": "code",
   "execution_count": 40,
   "id": "b4cd8db3",
   "metadata": {},
   "outputs": [
    {
     "data": {
      "text/plain": [
       "(5007, 10)"
      ]
     },
     "execution_count": 40,
     "metadata": {},
     "output_type": "execute_result"
    }
   ],
   "source": [
    "latent.shape"
   ]
  },
  {
   "cell_type": "code",
   "execution_count": 41,
   "id": "80f70178",
   "metadata": {},
   "outputs": [],
   "source": [
    "adata.obsm[\"X_scVI_2\"] = latent"
   ]
  },
  {
   "cell_type": "code",
   "execution_count": 42,
   "id": "a7abfd7e",
   "metadata": {},
   "outputs": [],
   "source": [
    "sc.pp.neighbors(adata, use_rep=\"X_scVI_2\")"
   ]
  },
  {
   "cell_type": "code",
   "execution_count": 43,
   "id": "7edc505e",
   "metadata": {},
   "outputs": [],
   "source": [
    "sc.tl.umap(adata, min_dist=0.3)"
   ]
  },
  {
   "cell_type": "code",
   "execution_count": 59,
   "id": "ff96f1a5",
   "metadata": {},
   "outputs": [
    {
     "data": {
      "image/png": "[encoded data removed]",
      "text/plain": [
       "<Figure size 494.64x576 with 2 Axes>"
      ]
     },
     "metadata": {},
     "output_type": "display_data"
    }
   ],
   "source": [
    "sc.pl.umap(\n",
    "    adata,\n",
    "    color=[\"donor_method\", \"free_annotation\"],\n",
    "    frameon=False,\n",
    "    ncols = 1,\n",
    ")"
   ]
  }
 ],
 "metadata": {
  "kernelspec": {
   "display_name": "Python 3.9.6 ('scvi-model-zoo')",
   "language": "python",
   "name": "python3"
  },
  "language_info": {
   "codemirror_mode": {
    "name": "ipython",
    "version": 3
   },
   "file_extension": ".py",
   "mimetype": "text/x-python",
   "name": "python",
   "nbconvert_exporter": "python",
   "pygments_lexer": "ipython3",
   "version": "3.9.6"
  },
  "vscode": {
   "interpreter": {
    "hash": "2ca2228c53b137c868a13587f65601bd820078968a95c556cd8a0685eed5fadc"
   }
  }
 },
 "nbformat": 4,
 "nbformat_minor": 5
}
